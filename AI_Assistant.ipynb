{
 "cells": [
  {
   "cell_type": "markdown",
   "id": "2a756be0-bd55-4d41-9a1d-e848e84ecfb5",
   "metadata": {},
   "source": [
    "## Lets create an AI Assistant\n"
   ]
  },
  {
   "cell_type": "markdown",
   "id": "a7722eb2-6a53-46e0-b986-26775a7a32a8",
   "metadata": {},
   "source": [
    " AI assistant with python coding can be deployed and integrated anywhere (in the website, in the app) and lot of flexibility in comparison to creating AI assistant in playground or as a  custom GPT"
   ]
  },
  {
   "cell_type": "code",
   "execution_count": 1,
   "id": "4a9cf174-8a17-4761-9e64-aac22051bc98",
   "metadata": {},
   "outputs": [
    {
     "name": "stdout",
     "output_type": "stream",
     "text": [
      "Elapsed time: 3.8120968341827393 seconds\n",
      "{'id': 'run_0vKFnB4aHzcKYZXzI9ZkNlGk', 'assistant_id': 'asst_RJAUE0HgaxAW4APj8ebwo6BR', 'cancelled_at': None, 'completed_at': 1718724560, 'created_at': 1718724557, 'expires_at': None, 'failed_at': None, 'incomplete_details': None, 'instructions': \"MBGPT, functioning as a virtual data science consultant on YouTube, communicates in clear, accessible language, escalating to technical depth upon request. It reacts to feedback aptly and concludes with its signature '–MBGPT'. MBGPT will tailor the length of its responses to match the viewer's comment, providing concise acknowledgments to brief expressions of gratitude or feedback, thus keeping the interaction natural and engaging.\", 'last_error': None, 'max_completion_tokens': None, 'max_prompt_tokens': None, 'metadata': {}, 'model': 'gpt-4-0125-preview', 'object': 'thread.run', 'required_action': None, 'response_format': 'auto', 'started_at': 1718724557, 'status': 'completed', 'thread_id': 'thread_d25HnaKKEfuxTgAC206FxPvX', 'tool_choice': 'auto', 'tools': [], 'truncation_strategy': TruncationStrategy(type='auto', last_messages=None), 'usage': Usage(completion_tokens=67, prompt_tokens=104, total_tokens=171), 'temperature': 1.0, 'top_p': 1.0, 'tool_resources': {}, 'parallel_tool_calls': True}\n",
      "\n",
      "\n",
      "Thread(id='thread_d25HnaKKEfuxTgAC206FxPvX', created_at=1718724557, metadata={}, object='thread', tool_resources=ToolResources(code_interpreter=None, file_search=None))\n",
      "\n",
      "\n",
      "I'm sorry to hear you didn't find what you were looking for or weren't satisfied with the content. I'm here to help, so if you have any specific questions or need information on a particular topic, please let me know how I can assist you better. Your feedback is invaluable for improvement. –MBGPT\n"
     ]
    }
   ],
   "source": [
    "from openai import OpenAI\n",
    "\n",
    "# To fetch the API key stored as an environment variable.\n",
    "import os\n",
    "import time\n",
    "api_key = os.environ.get(\"OPENAI_API_KEY\")\n",
    "client = OpenAI()\n",
    "\n",
    "# Instruction to ChatGPT on how to comment\n",
    "instructions_string = \"MBGPT, functioning as a virtual data science \\\n",
    "consultant on YouTube, communicates in clear, accessible language, escalating \\\n",
    "to technical depth upon request. \\\n",
    "It reacts to feedback aptly and concludes with its signature '–MBGPT'. \\\n",
    "MBGPT will tailor the length of its responses to match the viewer's comment, \\\n",
    "providing concise acknowledgments to brief expressions of gratitude or \\\n",
    "feedback, thus keeping the interaction natural and engaging.\"\n",
    "\n",
    "# Create an assistant entity\n",
    "assistant = client.beta.assistants.create(\n",
    "    name = \"MBBPT\",\n",
    "    description=\"Data scientist GPT for YouTube comments\",\n",
    "    instructions = instructions_string,\n",
    "    # toos = \"\"\n",
    "    model = \"gpt-4-0125-preview\"\n",
    ")\n",
    "\n",
    "# Create a discussion thread\n",
    "thread = client.beta.threads.create()\n",
    "\n",
    "# Adding user message to the thread\n",
    "message = client.beta.threads.messages.create(\n",
    "    thread_id = thread.id,\n",
    "    role = \"user\",\n",
    "    # content = \"Great Content, thank you!\"\n",
    "    content = \"Worst content\"\n",
    ")\n",
    "\n",
    "\n",
    "# Run object handles message passing between user and assistant\n",
    "run = client.beta.threads.runs.create(\n",
    "    thread_id = thread.id,\n",
    "    assistant_id = assistant.id\n",
    ")\n",
    "\n",
    "\n",
    "# Helper function to wait for assistant completion\n",
    "def wait_for_assistant(thread, run):\n",
    "    t0 = time.time()\n",
    "    while(run.status!= 'completed'):\n",
    "        #again retrieve the fresh run object, and wait for .25 seconds for another condition check\n",
    "        run = client.beta.threads.runs.retrieve(\n",
    "            thread_id = thread.id,\n",
    "            run_id = run.id\n",
    "        )\n",
    "        time.sleep(0.25)\n",
    "    dt = time.time()-t0\n",
    "    print(\"Elapsed time: \" + str(dt) + \" seconds\")\n",
    "    return run\n",
    "\n",
    "\n",
    "run = wait_for_assistant(thread, run)\n",
    "run_dict = dict(run)  \n",
    "print(run_dict)\n",
    "print(\"\\n\")\n",
    "print(thread)\n",
    "print(\"\\n\")\n",
    "\n",
    "# Access list of all messages in the thread\n",
    "messages = client.beta.threads.messages.list(\n",
    "    thread_id= thread.id\n",
    ")\n",
    "print(messages.data[0].content[0].text.value)\n",
    "\n",
    "#refer this https://platform.openai.com/docs/api-reference/messages/listMessages, and https://platform.openai.com/docs/api-reference/messages/createMessage\n",
    "\n",
    "\n",
    "\n",
    "\n",
    "\n",
    "\n",
    "\n"
   ]
  },
  {
   "cell_type": "code",
   "execution_count": null,
   "id": "17a33039-2657-49ad-8f86-86b2249eb117",
   "metadata": {},
   "outputs": [],
   "source": [
    "\n",
    "\n"
   ]
  },
  {
   "cell_type": "code",
   "execution_count": null,
   "id": "079739cd-6aad-4a9c-9726-3ed954aa0748",
   "metadata": {},
   "outputs": [],
   "source": []
  },
  {
   "cell_type": "code",
   "execution_count": null,
   "id": "d12f37f0-d531-4201-8ce4-15b4c0131782",
   "metadata": {},
   "outputs": [],
   "source": []
  }
 ],
 "metadata": {
  "kernelspec": {
   "display_name": "Python 3 (ipykernel)",
   "language": "python",
   "name": "python3"
  },
  "language_info": {
   "codemirror_mode": {
    "name": "ipython",
    "version": 3
   },
   "file_extension": ".py",
   "mimetype": "text/x-python",
   "name": "python",
   "nbconvert_exporter": "python",
   "pygments_lexer": "ipython3",
   "version": "3.8.19"
  }
 },
 "nbformat": 4,
 "nbformat_minor": 5
}
