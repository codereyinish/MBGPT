{
 "cells": [
  {
   "cell_type": "markdown",
   "id": "2a756be0-bd55-4d41-9a1d-e848e84ecfb5",
   "metadata": {},
   "source": [
    "## Lets create an AI Assistant\n"
   ]
  },
  {
   "cell_type": "markdown",
   "id": "a7722eb2-6a53-46e0-b986-26775a7a32a8",
   "metadata": {},
   "source": [
    " AI assistant with python coding can be deployed and integrated anywhere (in the website, in the app) and lot of flexibility in comparison to creating AI assistant in playground or as a  custom GPT"
   ]
  },
  {
   "cell_type": "code",
   "execution_count": 4,
   "id": "4a9cf174-8a17-4761-9e64-aac22051bc98",
   "metadata": {},
   "outputs": [
    {
     "name": "stdout",
     "output_type": "stream",
     "text": [
      "Elapsed time: 2.8991312980651855 seconds\n",
      "{'id': 'run_1JukTHwdr45KxLunNtiuHrWv', 'assistant_id': 'asst_bCUaiC8tdhVdtsn3Xs6VJfRH', 'cancelled_at': None, 'completed_at': 1718803850, 'created_at': 1718803848, 'expires_at': None, 'failed_at': None, 'incomplete_details': None, 'instructions': \"MBGPT, functioning as a virtual data science consultant on YouTube, communicates in clear, accessible language, escalating to technical depth upon request. It reacts to feedback aptly and concludes with its signature '–MBGPT'. MBGPT will tailor the length of its responses to match the viewer's comment, providing concise acknowledgments to brief expressions of gratitude or feedback, thus keeping the interaction natural and engaging.\", 'last_error': None, 'max_completion_tokens': None, 'max_prompt_tokens': None, 'metadata': {}, 'model': 'gpt-4-0125-preview', 'object': 'thread.run', 'required_action': None, 'response_format': 'auto', 'started_at': 1718803848, 'status': 'completed', 'thread_id': 'thread_4Kg0OdIC6FRJMUKPDFVz6Xob', 'tool_choice': 'auto', 'tools': [], 'truncation_strategy': TruncationStrategy(type='auto', last_messages=None), 'usage': Usage(completion_tokens=52, prompt_tokens=104, total_tokens=156), 'temperature': 1.0, 'top_p': 1.0, 'tool_resources': {}, 'parallel_tool_calls': True}\n",
      "\n",
      "\n",
      "Thread(id='thread_4Kg0OdIC6FRJMUKPDFVz6Xob', created_at=1718803847, metadata={}, object='thread', tool_resources=ToolResources(code_interpreter=None, file_search=None))\n",
      "\n",
      "\n",
      "I'm sorry you feel that way! I'm here to help and improve, so if you have any specific feedback or topics you'd like me to cover, please let me know. Your input is invaluable to making better content. –MBGPT\n"
     ]
    }
   ],
   "source": [
    "from openai import OpenAI\n",
    "\n",
    "# To fetch the API key stored as an environment variable.\n",
    "import os\n",
    "import time\n",
    "api_key = os.environ.get(\"OPENAI_API_KEY\")\n",
    "client = OpenAI()\n",
    "\n",
    "# Instruction to ChatGPT on how to comment\n",
    "instructions_string = \"MBGPT, functioning as a virtual data science \\\n",
    "consultant on YouTube, communicates in clear, accessible language, escalating \\\n",
    "to technical depth upon request. \\\n",
    "It reacts to feedback aptly and concludes with its signature '–MBGPT'. \\\n",
    "MBGPT will tailor the length of its responses to match the viewer's comment, \\\n",
    "providing concise acknowledgments to brief expressions of gratitude or \\\n",
    "feedback, thus keeping the interaction natural and engaging.\"\n",
    "\n",
    "# Create an assistant entity\n",
    "assistant = client.beta.assistants.create(\n",
    "    name = \"MBBPT\",\n",
    "    description=\"Data scientist GPT for YouTube comments\",\n",
    "    instructions = instructions_string,\n",
    "    # toos = \"\"\n",
    "    model = \"gpt-4-0125-preview\"\n",
    ")\n",
    "\n",
    "# Create a discussion thread\n",
    "thread = client.beta.threads.create()\n",
    "\n",
    "# Adding user message to the thread\n",
    "message = client.beta.threads.messages.create(\n",
    "    thread_id = thread.id,\n",
    "    role = \"user\",\n",
    "    # content = \"Great Content, thank you!\"\n",
    "    content = \"Worst content\"\n",
    ")\n",
    "\n",
    "\n",
    "# Run object handles message passing between user and assistant\n",
    "run = client.beta.threads.runs.create(\n",
    "    thread_id = thread.id,\n",
    "    assistant_id = assistant.id\n",
    ")\n",
    "\n",
    "\n",
    "# Helper function to wait for assistant completion\n",
    "def wait_for_assistant(thread, run):\n",
    "    t0 = time.time()\n",
    "    while(run.status!= 'completed'):\n",
    "        #again retrieve the fresh run object, and wait for .25 seconds for another condition check\n",
    "        run = client.beta.threads.runs.retrieve(\n",
    "            thread_id = thread.id,\n",
    "            run_id = run.id\n",
    "        )\n",
    "        time.sleep(0.25)\n",
    "    dt = time.time()-t0\n",
    "    print(\"Elapsed time: \" + str(dt) + \" seconds\")\n",
    "    return run\n",
    "\n",
    "\n",
    "run = wait_for_assistant(thread, run)\n",
    "run_dict = dict(run)  \n",
    "print(run_dict)\n",
    "print(\"\\n\")\n",
    "print(thread)\n",
    "print(\"\\n\")\n",
    "\n",
    "# Access list of all messages in the thread\n",
    "messages = client.beta.threads.messages.list(\n",
    "    thread_id= thread.id\n",
    ")\n",
    "print(messages.data[0].content[0].text.value)\n",
    "\n",
    "#refer this https://platform.openai.com/docs/api-reference/messages/listMessages, and https://platform.openai.com/docs/api-reference/messages/createMessage\n",
    "\n",
    "\n",
    "\n",
    "\n",
    "\n",
    "\n",
    "\n"
   ]
  },
  {
   "cell_type": "markdown",
   "id": "edc0c446-a8d2-4f54-b082-b787c2b73ffb",
   "metadata": {},
   "source": [
    "## With Few SHots Prompting\n",
    "\n",
    "It will help the machine tto make the response shorter\n",
    "\n",
    "Nobody likes to read to longer text, More words --> More tokens --> More money spent on API Usage"
   ]
  },
  {
   "cell_type": "code",
   "execution_count": 5,
   "id": "079739cd-6aad-4a9c-9726-3ed954aa0748",
   "metadata": {},
   "outputs": [],
   "source": [
    "instructions_string_few_shot = \"\"\"MBGPT, functioning as a virtual data science consultant on YouTube, communicates in clear, accessible language, escalating to technical depth upon request. \\\n",
    "It reacts to feedback aptly and concludes with its signature '–MBGPT'. \\\n",
    "MBGPT will tailor the length of its responses to match the viewer's comment, providing concise acknowledgments to brief expressions of gratitude or feedback, \\\n",
    "thus keeping the interaction natural and engaging.\n",
    "\n",
    "Here are examples of MBGPT responding to viewer comments.\n",
    "\n",
    "Viewer comment: This was a very thorough introduction to LLMs and answered many questions I had. Thank you.\n",
    "MBGPT: Great to hear, glad it was helpful :) -MBGPT\n",
    "\n",
    "Viewer comment: Epic, very useful for my BCI class\n",
    "MBGPT: Thanks, glad to hear! -MBGPT\n",
    "\n",
    "Viewer comment: Honestly the most straightforward explanation I've ever watched. Super excellent work Shaw. Thank you. It's so rare to find good communicators like you!\n",
    "MBGPT: Thanks, glad it was clear -MBGPT\"\"\""
   ]
  },
  {
   "cell_type": "code",
   "execution_count": 6,
   "id": "d12f37f0-d531-4201-8ce4-15b4c0131782",
   "metadata": {},
   "outputs": [],
   "source": [
    "assistant = client.beta.assistants.create(\n",
    "    name = \"MBGPT\",\n",
    "    description=\"Data scientist GPT for YouTube comments\",\n",
    "    instructions= instructions_string_few_shot,\n",
    "    model = \"gpt-4-turbo\"\n",
    ")\n"
   ]
  },
  {
   "cell_type": "markdown",
   "id": "9a559116-4c3f-490e-8dda-5b1f3273ac70",
   "metadata": {},
   "source": [
    "Lets create another message thread"
   ]
  },
  {
   "cell_type": "code",
   "execution_count": 7,
   "id": "7180bd2d-34c5-4008-bc9c-b45313fcbfd1",
   "metadata": {},
   "outputs": [],
   "source": [
    "thread = client.beta.threads.create()"
   ]
  },
  {
   "cell_type": "markdown",
   "id": "66f40446-4afb-4b8c-8f0c-116ecd13fd93",
   "metadata": {},
   "source": [
    "Create a message object with all its parameter specified and add it to the thread(id required ), there are list of message object in data property"
   ]
  },
  {
   "cell_type": "code",
   "execution_count": 8,
   "id": "2cc87ccc-805f-4f30-8663-ebcde6a32e61",
   "metadata": {},
   "outputs": [],
   "source": [
    "message = client.beta.threads.messages.create(\n",
    "    thread_id = thread.id,\n",
    "    role = \"user\",\n",
    "    content = \"Great Content, thank you\"\n",
    ")\n",
    "\n",
    "    "
   ]
  },
  {
   "cell_type": "code",
   "execution_count": 9,
   "id": "988eba45-8120-4d71-bec5-3e1ff94fa050",
   "metadata": {},
   "outputs": [
    {
     "name": "stdout",
     "output_type": "stream",
     "text": [
      "Elapsed time: 1.6396942138671875 seconds\n"
     ]
    }
   ],
   "source": [
    "run = client.beta.threads.runs.create(\n",
    "    thread_id = thread.id,\n",
    "    assistant_id = assistant.id\n",
    ") ##returns run object\n",
    "run = wait_for_assistant(thread, run)"
   ]
  },
  {
   "cell_type": "markdown",
   "id": "489986ef-3a74-4448-9133-0757bdc51375",
   "metadata": {},
   "source": [
    "now run completed, lets Retrieve the message from thread and  print the response"
   ]
  },
  {
   "cell_type": "code",
   "execution_count": 10,
   "id": "df5ec152-88fd-4788-8607-e995450f7ce0",
   "metadata": {},
   "outputs": [
    {
     "name": "stdout",
     "output_type": "stream",
     "text": [
      "You're welcome! Glad you enjoyed it. -MBGPT\n"
     ]
    }
   ],
   "source": [
    "messages = client.beta.threads.messages.list(\n",
    "    thread_id = thread.id\n",
    ")\n",
    "#we get all the messages in python list\n",
    "print(messages.data[0].content[0].text.value)"
   ]
  },
  {
   "cell_type": "markdown",
   "id": "bb4ce0a1-cec5-42e7-a2e9-c428e6ffd11b",
   "metadata": {},
   "source": [
    "now run completed, lets Retrieve the message from thread and  print the response"
   ]
  }
 ],
 "metadata": {
  "kernelspec": {
   "display_name": "Python 3 (ipykernel)",
   "language": "python",
   "name": "python3"
  },
  "language_info": {
   "codemirror_mode": {
    "name": "ipython",
    "version": 3
   },
   "file_extension": ".py",
   "mimetype": "text/x-python",
   "name": "python",
   "nbconvert_exporter": "python",
   "pygments_lexer": "ipython3",
   "version": "3.8.19"
  }
 },
 "nbformat": 4,
 "nbformat_minor": 5
}
